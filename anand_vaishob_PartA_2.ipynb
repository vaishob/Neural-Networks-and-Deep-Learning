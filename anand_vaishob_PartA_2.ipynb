{
 "cells": [
  {
   "cell_type": "markdown",
   "metadata": {},
   "source": [
    "# Question A2 (10 marks)"
   ]
  },
  {
   "cell_type": "markdown",
   "metadata": {},
   "source": [
    "### In this question, we will determine the optimal batch size for mini-batch gradient descent. Find the optimal batch size for mini-batch gradient descent by training the neural network and evaluating the performances for different batch sizes. Note: Use 5-fold cross-validation on the training partition to perform hyperparameter selection. You will have to reconsider the scaling of the dataset during the 5-fold cross validation."
   ]
  },
  {
   "cell_type": "markdown",
   "metadata": {},
   "source": [
    "#### Plot mean cross-validation accuracies on the final epoch for different batch sizes as a scatter plot. Limit search space to batch sizes {64, 128, 256, 512}. Next, create a table of time taken to train the network on the last epoch against different batch sizes. Finally, select the optimal batch size and state a reason for your selection.\n",
    "\n",
    "\n",
    "This might take a while to run, so plan your time carefully."
   ]
  },
  {
   "cell_type": "code",
   "execution_count": 1,
   "metadata": {},
   "outputs": [],
   "source": [
    "import tqdm\n",
    "import time\n",
    "import random\n",
    "import numpy as np\n",
    "import pandas as pd\n",
    "import matplotlib.pyplot as plt\n",
    "\n",
    "import torch\n",
    "from torch import nn\n",
    "from torch.utils.data import Dataset\n",
    "from torch.utils.data import DataLoader\n",
    "\n",
    "from scipy.io import wavfile as wav\n",
    "\n",
    "from sklearn import preprocessing\n",
    "from sklearn.model_selection import KFold\n",
    "from sklearn.model_selection import train_test_split\n",
    "from sklearn.metrics import f1_score, precision_score, recall_score, confusion_matrix\n",
    "from sklearn.preprocessing import StandardScaler\n",
    "from sklearn.model_selection import train_test_split, KFold\n",
    "\n",
    "from common_utils import set_seed, MLP, CustomDataset, split_dataset, preprocess_dataset, loss_fn \n",
    "\n",
    "# setting seed\n",
    "set_seed()"
   ]
  },
  {
   "cell_type": "markdown",
   "metadata": {},
   "source": [
    "1.To reduce repeated code, place your\n",
    "\n",
    "- network (MLP defined in QA1)\n",
    "\n",
    "- torch datasets (CustomDataset defined in QA1)\n",
    "- loss function (loss_fn defined in QA1)\n",
    "in a separate file called common_utils.py\n",
    "\n",
    "Import them into this file. You will not be repenalised for any error in QA1 here as the code in QA1 will not be remarked.\n",
    "\n",
    "The following code cell will not be marked."
   ]
  },
  {
   "cell_type": "code",
   "execution_count": 3,
   "metadata": {},
   "outputs": [],
   "source": [
    "# YOUR CODE HERE\n",
    "df = pd.read_csv('simplified.csv')  \n",
    "\n",
    "df['label'] = df['filename'].apply(lambda x: 1 if '_pos_' in x else 0)  # Binary labels (1 for positive, 0 for negative)\n",
    "\n",
    "\n",
    "columns_to_drop = ['filename']\n",
    "\n",
    "df_train, y_train, df_test, y_test = split_dataset(df, columns_to_drop, test_size=0.2, random_state=42)\n",
    "\n",
    "X_train_scaled, X_test_scaled = preprocess_dataset(df_train, df_test)"
   ]
  },
  {
   "cell_type": "markdown",
   "metadata": {},
   "source": [
    "2.Define different folds for different batch sizes to get a dictionary of training and validation datasets. Preprocess your datasets accordingly."
   ]
  },
  {
   "cell_type": "code",
   "execution_count": null,
   "metadata": {},
   "outputs": [],
   "source": [
    "# def generate_cv_folds_for_batch_sizes(zz, X_train, y_train):\n",
    "#     \"\"\"\n",
    "#     returns:\n",
    "#     X_train_scaled_dict(dict) where X_train_scaled_dict[batch_size] is a list of the preprocessed training matrix for the different folds.\n",
    "#     X_val_scaled_dict(dict) where X_val_scaled_dict[batch_size] is a list of the processed validation matrix for the different folds.\n",
    "#     y_train_dict(dict) where y_train_dict[batch_size] is a list of labels for the different folds\n",
    "#     y_val_dict(dict) where y_val_dict[batch_size] is a list of labels for the different folds\n",
    "#     \"\"\"\n",
    "#     # YOUR CODE HERE\n",
    "#     return X_train_scaled_dict, X_val_scaled_dict, y_train_dict, y_val_dict\n",
    "\n",
    "# batch_sizes = []\n",
    "# X_train_scaled_dict, X_val_scaled_dict, y_train_dict, y_val_dict = generate_cv_folds_for_batch_sizes(batch_sizes, X_train.to_numpy(), y_train)\n"
   ]
  },
  {
   "cell_type": "code",
   "execution_count": 4,
   "metadata": {},
   "outputs": [],
   "source": [
    "def generate_cv_folds_for_batch_sizes(batch_sizes, X_train, y_train):\n",
    "    X_train_scaled_dict = {}\n",
    "    X_val_scaled_dict = {}\n",
    "    y_train_dict = {}\n",
    "    y_val_dict = {}\n",
    "    \n",
    "    kf = KFold(n_splits=5, shuffle=True, random_state=42)\n",
    "    \n",
    "    for batch_size in batch_sizes:\n",
    "        X_train_scaled_dict[batch_size] = []\n",
    "        X_val_scaled_dict[batch_size] = []\n",
    "        y_train_dict[batch_size] = []\n",
    "        y_val_dict[batch_size] = []\n",
    "        \n",
    "        for train_idx, val_idx in kf.split(X_train):\n",
    "            # Split the data\n",
    "            X_train_fold, X_val_fold = X_train[train_idx], X_train[val_idx]\n",
    "            y_train_fold, y_val_fold = y_train[train_idx], y_train[val_idx]\n",
    "            \n",
    "            # Standardize the features\n",
    "            scaler = StandardScaler()\n",
    "            X_train_fold_scaled = scaler.fit_transform(X_train_fold)\n",
    "            X_val_fold_scaled = scaler.transform(X_val_fold)\n",
    "            \n",
    "            X_train_scaled_dict[batch_size].append(X_train_fold_scaled)\n",
    "            X_val_scaled_dict[batch_size].append(X_val_fold_scaled)\n",
    "            y_train_dict[batch_size].append(y_train_fold)\n",
    "            y_val_dict[batch_size].append(y_val_fold)\n",
    "\n",
    "    return X_train_scaled_dict, X_val_scaled_dict, y_train_dict, y_val_dict"
   ]
  },
  {
   "cell_type": "code",
   "execution_count": null,
   "metadata": {},
   "outputs": [],
   "source": []
  },
  {
   "cell_type": "markdown",
   "metadata": {},
   "source": [
    "3.Perform hyperparameter tuning for the different batch sizes with 5-fold cross validation."
   ]
  },
  {
   "cell_type": "code",
   "execution_count": 5,
   "metadata": {},
   "outputs": [],
   "source": [
    "def find_optimal_hyperparameter(X_train_scaled_dict, X_val_scaled_dict, y_train_dict, y_val_dict, batch_sizes, hyperparameter_name):\n",
    "    cross_validation_accuracies = {}\n",
    "    cross_validation_times = {}\n",
    "    \n",
    "    for batch_size in batch_sizes:\n",
    "        fold_accuracies = []\n",
    "        fold_times = []\n",
    "        \n",
    "        for fold in range(5):\n",
    "            # Get train and validation sets for the current fold\n",
    "            X_train_fold = X_train_scaled_dict[batch_size][fold]\n",
    "            X_val_fold = X_val_scaled_dict[batch_size][fold]\n",
    "            y_train_fold = y_train_dict[batch_size][fold]\n",
    "            y_val_fold = y_val_dict[batch_size][fold]\n",
    "            \n",
    "            # Convert to Pytorch Datasets\n",
    "            train_dataset = CustomDataset(X_train_fold, y_train_fold)\n",
    "            val_dataset = CustomDataset(X_val_fold, y_val_fold)\n",
    "            \n",
    "            # Initialize dataloaders\n",
    "            train_loader = DataLoader(train_dataset, batch_size=batch_size, shuffle=True)\n",
    "            val_loader = DataLoader(val_dataset, batch_size=batch_size, shuffle=False)\n",
    "            \n",
    "            # Define model, optimizer\n",
    "            model = MLP(no_features=X_train_fold.shape[1], no_hidden=128, no_labels=1)\n",
    "            optimizer = torch.optim.Adam(model.parameters(), lr=0.001)\n",
    "            \n",
    "            # Training loop \n",
    "            start_time = time.time()\n",
    "            for epoch in range(10):  # Train for 10 epochs\n",
    "                model.train()\n",
    "                for X_batch, y_batch in train_loader:\n",
    "                    optimizer.zero_grad()\n",
    "                    outputs = model(X_batch).squeeze()\n",
    "                    loss = loss_fn(outputs, y_batch)\n",
    "                    loss.backward()\n",
    "                    optimizer.step()\n",
    "            \n",
    "            # Evaluate on the validation set\n",
    "            model.eval()\n",
    "            correct = 0\n",
    "            total = 0\n",
    "            with torch.no_grad():\n",
    "                for X_batch, y_batch in val_loader:\n",
    "                    outputs = model(X_batch).squeeze()\n",
    "                    predictions = (outputs > 0.5).float()\n",
    "                    correct += (predictions == y_batch).sum().item()\n",
    "                    total += len(y_batch)\n",
    "            \n",
    "            accuracy = correct / total\n",
    "            fold_accuracies.append(accuracy)\n",
    "            fold_times.append(time.time() - start_time)\n",
    "        \n",
    "        # Store mean accuracy and time for the batch size\n",
    "        cross_validation_accuracies[batch_size] = np.mean(fold_accuracies)\n",
    "        cross_validation_times[batch_size] = np.mean(fold_times)\n",
    "    \n",
    "    return cross_validation_accuracies, cross_validation_times\n"
   ]
  },
  {
   "cell_type": "code",
   "execution_count": 6,
   "metadata": {},
   "outputs": [],
   "source": [
    "# Drop columns that are not needed (like filenames) and split the dataset\n",
    "\n",
    "columns_to_drop = ['filename']\n",
    "\n",
    "# Split the dataset into training and test sets\n",
    "df_train, y_train, df_test, y_test = split_dataset(df, columns_to_drop, test_size=0.2, random_state=42)\n",
    "\n",
    "# Preprocess the training and test datasets\n",
    "X_train_scaled, X_test_scaled = preprocess_dataset(df_train, df_test)\n"
   ]
  },
  {
   "cell_type": "code",
   "execution_count": 7,
   "metadata": {},
   "outputs": [],
   "source": [
    "# YOUR CODE HERE\n",
    "\n",
    "batch_sizes = [64, 128, 256, 512]\n",
    "# Generate cross-validation folds for different batch sizes\n",
    "X_train_scaled_dict, X_val_scaled_dict, y_train_dict, y_val_dict = generate_cv_folds_for_batch_sizes(\n",
    "    batch_sizes, X_train_scaled, y_train\n",
    ")\n",
    "cross_validation_accuracies, cross_validation_times = find_optimal_hyperparameter(X_train_scaled_dict, X_val_scaled_dict, y_train_dict, y_val_dict, batch_sizes, 'batch_size')\n"
   ]
  },
  {
   "cell_type": "code",
   "execution_count": null,
   "metadata": {},
   "outputs": [],
   "source": []
  },
  {
   "cell_type": "markdown",
   "metadata": {},
   "source": [
    "4.Plot scatterplot of mean cross validation accuracies for the different batch sizes."
   ]
  },
  {
   "cell_type": "code",
   "execution_count": 8,
   "metadata": {},
   "outputs": [
    {
     "data": {
      "image/png": "[encoded data removed]",
      "text/plain": [
       "<Figure size 640x480 with 1 Axes>"
      ]
     },
     "metadata": {},
     "output_type": "display_data"
    }
   ],
   "source": [
    "# YOUR CODE HERE\n",
    "# Plotting the results\n",
    "plt.scatter(batch_sizes, list(cross_validation_accuracies.values()))\n",
    "plt.xlabel('Batch Size')\n",
    "plt.ylabel('Mean Cross-Validation Accuracy')\n",
    "plt.title('Mean Accuracy for Different Batch Sizes')\n",
    "plt.show()"
   ]
  },
  {
   "cell_type": "markdown",
   "metadata": {},
   "source": [
    "4.Create a table of time taken to train the network on the last epoch against different batch sizes. Select the optimal batch size and state a reason for your selection."
   ]
  },
  {
   "cell_type": "code",
   "execution_count": 9,
   "metadata": {},
   "outputs": [
    {
     "name": "stdout",
     "output_type": "stream",
     "text": [
      "   Batch Size  Last Epoch Time (s)\n",
      "0          64             4.872275\n",
      "1         128             3.676197\n",
      "2         256             3.281742\n",
      "3         512             3.599866\n"
     ]
    }
   ],
   "source": [
    "df = pd.DataFrame({\n",
    "    'Batch Size': batch_sizes,\n",
    "    'Last Epoch Time (s)': list(cross_validation_times.values())\n",
    "})\n",
    "\n",
    "print(df)"
   ]
  },
  {
   "cell_type": "code",
   "execution_count": null,
   "metadata": {},
   "outputs": [],
   "source": []
  },
  {
   "cell_type": "code",
   "execution_count": null,
   "metadata": {},
   "outputs": [],
   "source": [
    "# YOUR CODE HERE\n",
    "optimal_batch_size =\n",
    "reason ="
   ]
  },
  {
   "cell_type": "code",
   "execution_count": 10,
   "metadata": {},
   "outputs": [
    {
     "name": "stdout",
     "output_type": "stream",
     "text": [
      "Optimal Batch Size: 64\n",
      "Reason: The batch size of 64 is selected because it provides the highest mean cross-validation accuracy with an acceptable training time.\n"
     ]
    }
   ],
   "source": [
    "# Selecting the batch size with the highest cross-validation accuracy\n",
    "optimal_batch_size = max(cross_validation_accuracies, key=cross_validation_accuracies.get)\n",
    "\n",
    "# Reason for selection\n",
    "reason = \"The batch size of {} is selected because it provides the highest mean cross-validation accuracy with an acceptable training time.\".format(optimal_batch_size)\n",
    "\n",
    "print(\"Optimal Batch Size:\", optimal_batch_size)\n",
    "print(\"Reason:\", reason)"
   ]
  },
  {
   "cell_type": "code",
   "execution_count": null,
   "metadata": {},
   "outputs": [],
   "source": []
  }
 ],
 "metadata": {
  "kernelspec": {
   "display_name": "Python 3 (ipykernel)",
   "language": "python",
   "name": "python3"
  },
  "language_info": {
   "codemirror_mode": {
    "name": "ipython",
    "version": 3
   },
   "file_extension": ".py",
   "mimetype": "text/x-python",
   "name": "python",
   "nbconvert_exporter": "python",
   "pygments_lexer": "ipython3",
   "version": "3.11.7"
  }
 },
 "nbformat": 4,
 "nbformat_minor": 2
}
