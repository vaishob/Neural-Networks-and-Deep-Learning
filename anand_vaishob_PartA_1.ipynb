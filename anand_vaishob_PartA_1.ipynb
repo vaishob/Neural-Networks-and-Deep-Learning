{
 "cells": [
  {
   "cell_type": "markdown",
   "metadata": {},
   "source": [
    "# Question A1 (15 marks)"
   ]
  },
  {
   "cell_type": "markdown",
   "metadata": {},
   "source": [
    "#### Design a feedforward deep neural network (DNN) which consists of **three** hidden layers of 128 neurons each with ReLU activation function, and an output layer with sigmoid activation function. Apply dropout of probability **0.2** to each of the hidden layers."
   ]
  },
  {
   "cell_type": "code",
   "execution_count": 1,
   "metadata": {},
   "outputs": [
    {
     "name": "stdout",
     "output_type": "stream",
     "text": [
      "Requirement already satisfied: torch in c:\\users\\vaishob\\anaconda3\\lib\\site-packages (2.4.1)\n",
      "Requirement already satisfied: filelock in c:\\users\\vaishob\\anaconda3\\lib\\site-packages (from torch) (3.13.1)\n",
      "Requirement already satisfied: typing-extensions>=4.8.0 in c:\\users\\vaishob\\anaconda3\\lib\\site-packages (from torch) (4.9.0)\n",
      "Requirement already satisfied: sympy in c:\\users\\vaishob\\anaconda3\\lib\\site-packages (from torch) (1.12)\n",
      "Requirement already satisfied: networkx in c:\\users\\vaishob\\anaconda3\\lib\\site-packages (from torch) (3.1)\n",
      "Requirement already satisfied: jinja2 in c:\\users\\vaishob\\anaconda3\\lib\\site-packages (from torch) (3.1.3)\n",
      "Requirement already satisfied: fsspec in c:\\users\\vaishob\\anaconda3\\lib\\site-packages (from torch) (2023.10.0)\n",
      "Requirement already satisfied: MarkupSafe>=2.0 in c:\\users\\vaishob\\anaconda3\\lib\\site-packages (from jinja2->torch) (2.1.3)\n",
      "Requirement already satisfied: mpmath>=0.19 in c:\\users\\vaishob\\anaconda3\\lib\\site-packages (from sympy->torch) (1.3.0)\n"
     ]
    }
   ],
   "source": [
    "import tqdm\n",
    "import time\n",
    "import random\n",
    "import numpy as np\n",
    "import pandas as pd\n",
    "import matplotlib.pyplot as plt\n",
    "\n",
    "!pip install torch\n",
    "import torch\n",
    "from torch import nn\n",
    "from torch.utils.data import Dataset\n",
    "from torch.utils.data import DataLoader\n",
    "\n",
    "from scipy.io import wavfile as wav\n",
    "\n",
    "from sklearn import preprocessing\n",
    "from sklearn.model_selection import KFold\n",
    "from sklearn.model_selection import train_test_split\n",
    "from sklearn.metrics import f1_score, precision_score, recall_score, confusion_matrix\n",
    "\n",
    "from common_utils import set_seed\n",
    "\n",
    "# setting seed\n",
    "set_seed()"
   ]
  },
  {
   "cell_type": "markdown",
   "metadata": {},
   "source": [
    "1.Define the model class."
   ]
  },
  {
   "cell_type": "code",
   "execution_count": null,
   "metadata": {},
   "outputs": [],
   "source": [
    "# class MLP(nn.Module):\n",
    "\n",
    "#     def __init__(self, no_features, no_hidden, no_labels):\n",
    "#         super().__init__()\n",
    "#         self.mlp_stack = nn.Sequential(\n",
    "#             # YOUR CODE HERE\n",
    "#         )\n",
    "\n",
    "#     # YOUR CODE HERE"
   ]
  },
  {
   "cell_type": "code",
   "execution_count": 2,
   "metadata": {},
   "outputs": [],
   "source": [
    "class MLP(nn.Module):\n",
    "    def __init__(self, no_features, no_hidden, no_labels):\n",
    "        super().__init__()\n",
    "        self.mlp_stack = nn.Sequential(\n",
    "            nn.Linear(no_features, no_hidden),  # First hidden layer\n",
    "            nn.ReLU(),\n",
    "            nn.Dropout(0.2),\n",
    "            nn.Linear(no_hidden, no_hidden),    # Second hidden layer\n",
    "            nn.ReLU(),\n",
    "            nn.Dropout(0.2),\n",
    "            nn.Linear(no_hidden, no_hidden),    # Third hidden layer\n",
    "            nn.ReLU(),\n",
    "            nn.Dropout(0.2),\n",
    "            nn.Linear(no_hidden, no_labels),    # Output layer\n",
    "            nn.Sigmoid()\n",
    "        )\n",
    "        \n",
    "    # YOUR CODE HERE\n",
    "    def forward(self, x):\n",
    "        return self.mlp_stack(x)"
   ]
  },
  {
   "cell_type": "code",
   "execution_count": null,
   "metadata": {},
   "outputs": [],
   "source": []
  },
  {
   "cell_type": "code",
   "execution_count": null,
   "metadata": {},
   "outputs": [],
   "source": []
  },
  {
   "cell_type": "markdown",
   "metadata": {},
   "source": [
    "#### Divide the dataset into a 80:20 ratio for training and testing. Use **appropriate** scaling of input features. We solely assume that there are only two datasets here: training & test."
   ]
  },
  {
   "cell_type": "markdown",
   "metadata": {},
   "source": [
    "2.Split the dataset and do preprocessing."
   ]
  },
  {
   "cell_type": "code",
   "execution_count": null,
   "metadata": {},
   "outputs": [],
   "source": [
    "# from common_utils import split_dataset, preprocess_dataset\n",
    "\n",
    "\n",
    "# def preprocess(df):\n",
    "#     # YOUR CODE HERE\n",
    "#     return X_train_scaled, y_train, X_test_scaled, y_test\n",
    "\n",
    "# df = pd.read_csv('simplified.csv')\n",
    "# df['label'] = df['filename'].str.split('_').str[-2]\n",
    "\n",
    "# df['label'].value_counts()\n",
    "\n",
    "# X_train_scaled, y_train, X_test_scaled, y_test = preprocess(df)"
   ]
  },
  {
   "cell_type": "code",
   "execution_count": 7,
   "metadata": {},
   "outputs": [],
   "source": [
    "from common_utils import split_dataset, preprocess_dataset\n",
    "\n",
    "def preprocess(df):\n",
    "    # Dropping the 'filename' column since it is not a feature for training\n",
    "    df['label'] = df['filename'].apply(lambda x: 1 if '_pos_' in x else 0)  # 1 for positive, 0 for negative\n",
    "    df = df.drop(columns=['filename'])\n",
    "\n",
    "    # Separating features and labels\n",
    "    X = df.drop(columns=['label'])\n",
    "    y = df['label']\n",
    "\n",
    "    # Scaling features\n",
    "    scaler = preprocessing.StandardScaler()\n",
    "    X_scaled = scaler.fit_transform(X)\n",
    "\n",
    "    # Splitting the dataset into 80:20 for train/test\n",
    "    X_train, X_test, y_train, y_test = train_test_split(X_scaled, y, test_size=0.2, random_state=42)\n",
    "\n",
    "    # Reset index to avoid KeyError during DataLoader iteration\n",
    "    y_train = y_train.reset_index(drop=True)\n",
    "    y_test = y_test.reset_index(drop=True)\n",
    "    \n",
    "    return X_train, y_train, X_test, y_test\n",
    "\n",
    "# Load the dataset\n",
    "df = pd.read_csv('simplified.csv')\n",
    "\n",
    "# Preprocess the dataset\n",
    "X_train_scaled, y_train, X_test_scaled, y_test = preprocess(df)"
   ]
  },
  {
   "cell_type": "markdown",
   "metadata": {},
   "source": [
    "#### Use the training dataset to train the model for 100 epochs. Use a mini-batch gradient descent with **‘Adam’** optimizer with learning rate of **0.001**, and **batch size = 128**. Implement early stopping with patience of **3**."
   ]
  },
  {
   "cell_type": "markdown",
   "metadata": {},
   "source": [
    "3.Define a Pytorch Dataset and Dataloaders.  "
   ]
  },
  {
   "cell_type": "code",
   "execution_count": null,
   "metadata": {},
   "outputs": [],
   "source": [
    "# class CustomDataset(Dataset):\n",
    "#     # YOUR CODE HERE\n",
    "\n",
    "\n",
    "# def intialise_loaders(X_train_scaled, y_train, X_test_scaled, y_test):\n",
    "#     # YOUR CODE HERE\n",
    "#     return train_dataloader, test_dataloader\n",
    "\n",
    "# train_dataloader, test_dataloader = intialise_loaders(X_train_scaled, y_train, X_test_scaled, y_test)"
   ]
  },
  {
   "cell_type": "code",
   "execution_count": 8,
   "metadata": {},
   "outputs": [],
   "source": [
    "class CustomDataset(Dataset):\n",
    "    # YOUR CODE HERE\n",
    "    def __init__(self, X, y):\n",
    "        self.X = X\n",
    "        self.y = y\n",
    "\n",
    "    def __len__(self):\n",
    "        return len(self.X)\n",
    "\n",
    "    def __getitem__(self, idx):\n",
    "        return torch.tensor(self.X[idx], dtype=torch.float32), torch.tensor(self.y[idx], dtype=torch.float32)\n",
    "\n",
    "def initialise_loaders(X_train_scaled, y_train, X_test_scaled, y_test, batch_size=128):\n",
    "    train_dataset = CustomDataset(X_train_scaled, y_train)\n",
    "    test_dataset = CustomDataset(X_test_scaled, y_test)\n",
    "\n",
    "    train_dataloader = DataLoader(train_dataset, batch_size=batch_size, shuffle=True)\n",
    "    test_dataloader = DataLoader(test_dataset, batch_size=batch_size, shuffle=False)\n",
    "\n",
    "    return train_dataloader, test_dataloader\n",
    "\n",
    "train_dataloader, test_dataloader = initialise_loaders(X_train_scaled, y_train, X_test_scaled, y_test)"
   ]
  },
  {
   "cell_type": "code",
   "execution_count": null,
   "metadata": {},
   "outputs": [],
   "source": []
  },
  {
   "cell_type": "code",
   "execution_count": null,
   "metadata": {},
   "outputs": [],
   "source": []
  },
  {
   "cell_type": "code",
   "execution_count": null,
   "metadata": {},
   "outputs": [],
   "source": []
  },
  {
   "cell_type": "markdown",
   "metadata": {},
   "source": [
    "4.Next, define the model, optimizer and loss function."
   ]
  },
  {
   "cell_type": "code",
   "execution_count": null,
   "metadata": {},
   "outputs": [],
   "source": [
    "# # YOUR CODE HERE\n",
    "# model =\n",
    "# optimizer =\n",
    "# loss_fn ="
   ]
  },
  {
   "cell_type": "code",
   "execution_count": 9,
   "metadata": {},
   "outputs": [],
   "source": [
    "# YOUR CODE HERE\n",
    "no_features = X_train_scaled.shape[1]  # Number of features in the dataset\n",
    "no_hidden = 128                        # Hidden layer size\n",
    "no_labels = 1                          # Output size (binary classification)\n",
    "\n",
    "model = MLP(no_features, no_hidden, no_labels)\n",
    "optimizer = torch.optim.Adam(model.parameters(), lr=0.001)\n",
    "loss_fn = nn.BCELoss()  # Binary Cross Entropy Loss for binary classification\n"
   ]
  },
  {
   "cell_type": "code",
   "execution_count": null,
   "metadata": {},
   "outputs": [],
   "source": []
  },
  {
   "cell_type": "code",
   "execution_count": null,
   "metadata": {},
   "outputs": [],
   "source": []
  },
  {
   "cell_type": "markdown",
   "metadata": {},
   "source": [
    "5.Train model for 100 epochs. Record down train and test accuracies. Implement early stopping."
   ]
  },
  {
   "cell_type": "code",
   "execution_count": 10,
   "metadata": {},
   "outputs": [
    {
     "name": "stdout",
     "output_type": "stream",
     "text": [
      "Epoch 1/100, Train Loss: 0.6827, Test Loss: 0.6707, Train Acc: 0.5559, Test Acc: 0.5796\n",
      "Epoch 2/100, Train Loss: 0.6656, Test Loss: 0.6511, Train Acc: 0.5961, Test Acc: 0.6235\n",
      "Epoch 3/100, Train Loss: 0.6496, Test Loss: 0.6425, Train Acc: 0.6153, Test Acc: 0.6219\n",
      "Epoch 4/100, Train Loss: 0.6343, Test Loss: 0.6258, Train Acc: 0.6372, Test Acc: 0.6476\n",
      "Epoch 5/100, Train Loss: 0.6163, Test Loss: 0.6171, Train Acc: 0.6609, Test Acc: 0.6563\n",
      "Epoch 6/100, Train Loss: 0.5946, Test Loss: 0.6006, Train Acc: 0.6744, Test Acc: 0.6704\n",
      "Epoch 7/100, Train Loss: 0.5768, Test Loss: 0.6020, Train Acc: 0.6909, Test Acc: 0.6766\n",
      "Epoch 8/100, Train Loss: 0.5643, Test Loss: 0.5862, Train Acc: 0.7034, Test Acc: 0.6857\n",
      "Epoch 9/100, Train Loss: 0.5458, Test Loss: 0.5857, Train Acc: 0.7193, Test Acc: 0.6886\n",
      "Epoch 10/100, Train Loss: 0.5237, Test Loss: 0.5588, Train Acc: 0.7370, Test Acc: 0.7181\n",
      "Epoch 11/100, Train Loss: 0.5058, Test Loss: 0.5551, Train Acc: 0.7477, Test Acc: 0.7094\n",
      "Epoch 12/100, Train Loss: 0.4958, Test Loss: 0.5476, Train Acc: 0.7519, Test Acc: 0.7197\n",
      "Epoch 13/100, Train Loss: 0.4850, Test Loss: 0.5418, Train Acc: 0.7629, Test Acc: 0.7355\n",
      "Epoch 14/100, Train Loss: 0.4689, Test Loss: 0.5394, Train Acc: 0.7756, Test Acc: 0.7268\n",
      "Epoch 15/100, Train Loss: 0.4542, Test Loss: 0.5305, Train Acc: 0.7862, Test Acc: 0.7388\n",
      "Epoch 16/100, Train Loss: 0.4499, Test Loss: 0.5209, Train Acc: 0.7843, Test Acc: 0.7363\n",
      "Epoch 17/100, Train Loss: 0.4295, Test Loss: 0.5334, Train Acc: 0.7972, Test Acc: 0.7276\n",
      "Epoch 18/100, Train Loss: 0.4281, Test Loss: 0.5154, Train Acc: 0.8020, Test Acc: 0.7400\n",
      "Epoch 19/100, Train Loss: 0.4148, Test Loss: 0.5083, Train Acc: 0.8025, Test Acc: 0.7496\n",
      "Epoch 20/100, Train Loss: 0.4142, Test Loss: 0.4999, Train Acc: 0.8073, Test Acc: 0.7579\n",
      "Epoch 21/100, Train Loss: 0.3996, Test Loss: 0.5085, Train Acc: 0.8180, Test Acc: 0.7570\n",
      "Epoch 22/100, Train Loss: 0.3952, Test Loss: 0.5037, Train Acc: 0.8196, Test Acc: 0.7496\n",
      "Early stopping at epoch 23\n"
     ]
    }
   ],
   "source": [
    "# YOUR CODE HERE\n",
    "def train_model(model, train_dataloader, test_dataloader, optimizer, loss_fn, epochs=100, patience=3):\n",
    "    train_losses, test_losses = [], []\n",
    "    train_accs, test_accs = [], []  # Initialize these as empty lists, not unpack them.\n",
    "\n",
    "    best_loss = float('inf')\n",
    "    patience_counter = 0\n",
    "\n",
    "    for epoch in range(epochs):\n",
    "        model.train()\n",
    "        train_loss, correct = 0, 0\n",
    "        for X_batch, y_batch in train_dataloader:\n",
    "            optimizer.zero_grad()\n",
    "            outputs = model(X_batch).squeeze()\n",
    "            loss = loss_fn(outputs, y_batch)\n",
    "            loss.backward()\n",
    "            optimizer.step()\n",
    "\n",
    "            train_loss += loss.item()\n",
    "            preds = (outputs > 0.5).float()\n",
    "            correct += (preds == y_batch).sum().item()\n",
    "\n",
    "        train_losses.append(train_loss / len(train_dataloader))\n",
    "        train_accs.append(correct / len(train_dataloader.dataset))\n",
    "\n",
    "        # Validation\n",
    "        model.eval()\n",
    "        test_loss, correct = 0, 0\n",
    "        with torch.no_grad():\n",
    "            for X_batch, y_batch in test_dataloader:\n",
    "                outputs = model(X_batch).squeeze()\n",
    "                loss = loss_fn(outputs, y_batch)\n",
    "                test_loss += loss.item()\n",
    "                preds = (outputs > 0.5).float()\n",
    "                correct += (preds == y_batch).sum().item()\n",
    "\n",
    "        test_losses.append(test_loss / len(test_dataloader))\n",
    "        test_accs.append(correct / len(test_dataloader.dataset))\n",
    "\n",
    "        # Early stopping\n",
    "        if test_losses[-1] < best_loss:\n",
    "            best_loss = test_losses[-1]\n",
    "            patience_counter = 0\n",
    "        else:\n",
    "            patience_counter += 1\n",
    "\n",
    "        if patience_counter >= patience:\n",
    "            print(f\"Early stopping at epoch {epoch + 1}\")\n",
    "            break\n",
    "\n",
    "        print(f\"Epoch {epoch + 1}/{epochs}, Train Loss: {train_losses[-1]:.4f}, Test Loss: {test_losses[-1]:.4f}, Train Acc: {train_accs[-1]:.4f}, Test Acc: {test_accs[-1]:.4f}\")\n",
    "\n",
    "    return train_losses, test_losses, train_accs, test_accs\n",
    "\n",
    "\n",
    "train_losses, test_losses, train_accs, test_accs = train_model(model, train_dataloader, test_dataloader, optimizer, loss_fn)"
   ]
  },
  {
   "cell_type": "code",
   "execution_count": 16,
   "metadata": {},
   "outputs": [],
   "source": [
    "torch.save(model.state_dict(), 'mlp_pretrained_weights.pth')"
   ]
  },
  {
   "cell_type": "markdown",
   "metadata": {},
   "source": [
    "#### Plot train and test accuracies and losses on training and test data against training epochs and comment on the line plots.\n"
   ]
  },
  {
   "cell_type": "code",
   "execution_count": 11,
   "metadata": {},
   "outputs": [
    {
     "data": {
      "image/png": "[encoded data removed]",
      "text/plain": [
       "<Figure size 1200x500 with 2 Axes>"
      ]
     },
     "metadata": {},
     "output_type": "display_data"
    }
   ],
   "source": [
    "# YOUR CODE HERE\n",
    "\n",
    "# Plotting the results\n",
    "epochs = len(train_losses)\n",
    "\n",
    "plt.figure(figsize=(12, 5))\n",
    "\n",
    "# Plot loss\n",
    "plt.subplot(1, 2, 1)\n",
    "plt.plot(range(epochs), train_losses, label='Train Loss')\n",
    "plt.plot(range(epochs), test_losses, label='Test Loss')\n",
    "plt.xlabel('Epochs')\n",
    "plt.ylabel('Loss')\n",
    "plt.legend()\n",
    "plt.title('Loss vs Epochs')\n",
    "\n",
    "# Plot accuracy\n",
    "plt.subplot(1, 2, 2)\n",
    "plt.plot(range(epochs), train_accs, label='Train Accuracy')\n",
    "plt.plot(range(epochs), test_accs, label='Test Accuracy')\n",
    "plt.xlabel('Epochs')\n",
    "plt.ylabel('Accuracy')\n",
    "plt.legend()\n",
    "plt.title('Accuracy vs Epochs')\n",
    "\n",
    "plt.show()"
   ]
  },
  {
   "cell_type": "markdown",
   "metadata": {},
   "source": [
    "6.Comment on line plots."
   ]
  },
  {
   "cell_type": "code",
   "execution_count": 15,
   "metadata": {},
   "outputs": [],
   "source": [
    "# YOUR CODE HERE\n",
    "answer = \"\"\"\n",
    "The line plots give valuable insights into the model's training process and its ability to generalize.\n",
    "\n",
    "For the **Loss vs Epochs** plot:\n",
    "- **Training Loss**: The consistent decline in training loss indicates that the model is learning effectively, reducing its errors on the training data.\n",
    "- **Test Loss**: While the test loss decreases initially, it starts to fluctuate and even increases slightly after a certain point. This suggests **overfitting**, where the model is becoming too tailored to the training data and struggles to generalize to new, unseen data.\n",
    "\n",
    "For the **Accuracy vs Epochs** plot:\n",
    "- **Training Accuracy**: The steady improvement in training accuracy shows that the model is increasingly able to classify the training data correctly. However, the widening gap between training and test accuracy after about 10 epochs suggests that the model might be overfitting.\n",
    "- **Test Accuracy**: The test accuracy rises at first but then levels off, peaking around 75%. This indicates that the model's performance on unseen data stops improving, despite continued gains in training accuracy.\n",
    "\n",
    "In conclusion, the model shows clear signs of overfitting as training progresses. Techniques such as increasing dropout, using L2 regularization, or implementing early stopping could help improve the model's generalization and prevent overfitting.\n",
    "\"\"\""
   ]
  },
  {
   "cell_type": "code",
   "execution_count": null,
   "metadata": {},
   "outputs": [],
   "source": []
  }
 ],
 "metadata": {
  "kernelspec": {
   "display_name": "Python 3 (ipykernel)",
   "language": "python",
   "name": "python3"
  },
  "language_info": {
   "codemirror_mode": {
    "name": "ipython",
    "version": 3
   },
   "file_extension": ".py",
   "mimetype": "text/x-python",
   "name": "python",
   "nbconvert_exporter": "python",
   "pygments_lexer": "ipython3",
   "version": "3.11.7"
  }
 },
 "nbformat": 4,
 "nbformat_minor": 2
}
